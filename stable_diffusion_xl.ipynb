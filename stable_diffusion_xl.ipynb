{
  "cells": [
    {
      "cell_type": "markdown",
      "metadata": {
        "id": "view-in-github",
        "colab_type": "text"
      },
      "source": [
        "<a href=\"https://colab.research.google.com/github/blackhawkee/llm-play/blob/main/stable_diffusion_xl.ipynb\" target=\"_parent\"><img src=\"https://colab.research.google.com/assets/colab-badge.svg\" alt=\"Open In Colab\"/></a>"
      ]
    },
    {
      "cell_type": "code",
      "execution_count": null,
      "metadata": {
        "id": "CCFIGdbDrTvC"
      },
      "outputs": [],
      "source": [
        "!pip install -U autotrain-advanced\n",
        "!autotrain setup --update-torch"
      ]
    },
    {
      "cell_type": "code",
      "execution_count": null,
      "metadata": {
        "id": "XjJN9z2QsRA2"
      },
      "outputs": [],
      "source": [
        "import requests\n",
        "import os\n",
        "images = [  \"https://www.pngall.com/wp-content/uploads/4/Labrador-Retriever-Puppy-PNG-Free-Image.png\",\n",
        "            \"https://www.pngall.com/wp-content/uploads/4/Labrador-Retriever-Puppy-PNG-High-Quality-Image.png\",\n",
        "            \"https://www.pngall.com/wp-content/uploads/4/Labrador-Retriever-Puppy-PNG-Image-File.png\",\n",
        "            \"https://www.pngall.com/wp-content/uploads/4/Labrador-Retriever-Puppy-Transparent.png\",\n",
        "            \"https://www.pngall.com/wp-content/uploads/4/Labrador-Retriever-PNG-Download-Image.png\",\n",
        "            \"https://www.pngall.com/wp-content/uploads/4/Labrador-Retriever-PNG-Transparent-HD-Photo.png\",\n",
        "            \"https://www.pngall.com/wp-content/uploads/4/Labrador-Retriever-PNG.png\",\n",
        "            \"https://www.pngall.com/wp-content/uploads/4/Labrador-Retriever-Puppy-PNG-Download-Image.png\"\n",
        "            ]\n",
        "\n",
        "images_directory = \"/content/images\"\n",
        "if not os.path.exists(images_directory):\n",
        "    os.makedirs(images_directory)\n",
        "\n",
        "for idx, url in enumerate(images):\n",
        "  response = requests.get(url)\n",
        "  with open(f\"{images_directory}/image_{str(idx)}.jpg\", \"wb\") as f:\n",
        "      f.write(response.content)"
      ]
    },
    {
      "cell_type": "code",
      "execution_count": null,
      "metadata": {
        "id": "gqWyhn_Vu9bN"
      },
      "outputs": [],
      "source": [
        "!autotrain dreambooth \\\n",
        "--model stabilityai/stable-diffusion-xl-base-1.0 \\\n",
        "--output model_output/ \\\n",
        "--image-path /content/images/ \\\n",
        "--prompt \"photo of sks dog\" \\\n",
        "--resolution 512 \\\n",
        "--batch-size 1 \\\n",
        "--num-steps 150 \\\n",
        "--fp16 \\\n",
        "--gradient-accumulation 4 \\\n",
        "--lr 1e-4 \\\n",
        "--use-8bit-adam"
      ]
    },
    {
      "cell_type": "code",
      "execution_count": null,
      "metadata": {
        "id": "4DnZ6zclwKee"
      },
      "outputs": [],
      "source": [
        "from diffusers import DiffusionPipeline, StableDiffusionXLImg2ImgPipeline\n",
        "import torch\n",
        "\n",
        "model = \"stabilityai/stable-diffusion-xl-base-1.0\"\n",
        "pipe = DiffusionPipeline.from_pretrained(\n",
        "    model,\n",
        "    torch_dtype = torch.float16\n",
        ")\n",
        "pipe.to(\"cuda\")\n",
        "pipe.load_lora_weights(\n",
        "    \"model_output/\", weight_name = \"pytorch_lora_weights.safetensors\"\n",
        ")\n",
        "\n",
        "# refiner = StableDiffusionXLImg2ImgPipeline.from_pretrained(\n",
        "#     \"stabilityai/stable-diffusion-xl-refiner-1.0\",\n",
        "#     torch_dtype = torch.float16\n",
        "# )\n",
        "# refiner.to(\"cuda\")\n",
        "\n",
        "prompt = \"portrait of sks dog, cartoon, pixar, 3d, headshots, fantasy, 4k, uhd\"\n",
        "for seed in range(30):\n",
        "  generator = torch.Generator(\"cuda\").manual_seed(seed)\n",
        "  image = pipe(\n",
        "      prompt=prompt, generator=generator, num_inference_steps=25\n",
        "  )\n",
        "  image = image.images[0]\n",
        "  # image = refiner(prompt=prompt, generator=generator, image=image)\n",
        "  image=image.images[0]\n",
        "  image.save(f\"images/{seed}.png\")"
      ]
    }
  ],
  "metadata": {
    "accelerator": "GPU",
    "colab": {
      "provenance": [],
      "gpuType": "T4",
      "include_colab_link": true
    },
    "kernelspec": {
      "display_name": "Python 3",
      "name": "python3"
    },
    "language_info": {
      "name": "python"
    }
  },
  "nbformat": 4,
  "nbformat_minor": 0
}